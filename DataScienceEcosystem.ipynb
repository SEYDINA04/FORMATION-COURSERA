{
 "cells": [
  {
   "cell_type": "markdown",
   "metadata": {},
   "source": [
    "# Outils et écosystème de la science des données"
   ]
  },
  {
   "cell_type": "markdown",
   "metadata": {},
   "source": [
    "Dans ce notebook, les outils et l'écosystème de la science des données sont résumés."
   ]
  },
  {
   "cell_type": "markdown",
   "metadata": {},
   "source": [
    "**Objectif**\n",
    "- Liste des langages populaires pour la science des données\n",
    "- Liste des bibliothèques couramment utilisées par les scientifiques des données\n",
    "- Liste des outils  couramment utilisés par les scientifiques des données\n",
    "- Expressions et Evaluations arithmétiques en Python: \n"
   ]
  },
  {
   "cell_type": "markdown",
   "metadata": {},
   "source": [
    " Certains des langages populaires que les scientifiques des données utilisent sont :\n",
    " 1. Python\n",
    " 2. R\n",
    " 3. SQL\n",
    " 4. Julia\n",
    " 5. Java\n",
    " 6. Scala\n"
   ]
  },
  {
   "cell_type": "markdown",
   "metadata": {},
   "source": [
    "Certaines des bibliothèques couramment utilisées par les scientifiques des données incluent :\n",
    "1. Numpy\n",
    "2. Pandas\n",
    "3. Matplotlib\n",
    "4. Scikit-learn\n",
    "5. TensorFlow\n",
    "6. ggplot2\n",
    "7. dplyr\n",
    "8. caret\n",
    "9. BigQuery\n",
    "10. SQL Spark"
   ]
  },
  {
   "cell_type": "markdown",
   "metadata": {},
   "source": [
    "|Outils de la science des données|\n",
    "|-------------------------------|\n",
    "|Python, R, SQL, MATLAB, Julia|\n",
    "|Tableau, Power BI, ggplot2, matplotlib|\n",
    "|Hadoop, Spark, BigQuery, Redshift|\n",
    "|tensorflow, pytorch, scikit-learn, keras, H2O.ai|\n",
    "|Mysql, MongoDB, Cassandra, Postgresql, Drive, AWS S3|\n",
    "|Git, Github, GithLab, Bitbuket|\n",
    "|Jupyter, JupyterLab,Vs code, google colab, Azure ML|\n"
   ]
  },
  {
   "cell_type": "markdown",
   "metadata": {},
   "source": [
    "### Voici quelques exemples d'évaluation d'expressions arithmétiques en Python:\n",
    "* <code>(3*4)+5</code>\n",
    "* <code>10/2</code>\n",
    "* <code>7-2</code>\n",
    "* <code>5+2*3</code>\n",
    "* <code>10/2+3</code>"
   ]
  },
  {
   "cell_type": "code",
   "execution_count": 4,
   "metadata": {},
   "outputs": [
    {
     "data": {
      "text/plain": [
       "17"
      ]
     },
     "execution_count": 4,
     "metadata": {},
     "output_type": "execute_result"
    }
   ],
   "source": [
    "#Ceci est une simple expression arithmétique pour multiplier puis additionner des entiers\n",
    "(3*4)+5"
   ]
  },
  {
   "cell_type": "code",
   "execution_count": 5,
   "metadata": {},
   "outputs": [
    {
     "name": "stdout",
     "output_type": "stream",
     "text": [
      "3.3333333333333335\n"
     ]
    }
   ],
   "source": [
    "#Cela convertira 200 minutes en heures en divisant par 60\n",
    "\n",
    "convertir_minutes_en_heures = 200/60\n",
    "print(convertir_minutes_en_heures)\n",
    "\n"
   ]
  },
  {
   "cell_type": "markdown",
   "metadata": {},
   "source": [
    "## <div style=\"color: blue;\">Auteur</div>\n",
    "\n",
    "<div style=\"color: blue;\">Babacar Ndao</div>\n"
   ]
  },
  {
   "cell_type": "markdown",
   "metadata": {},
   "source": []
  }
 ],
 "metadata": {
  "kernelspec": {
   "display_name": "Python 3",
   "language": "python",
   "name": "python3"
  },
  "language_info": {
   "codemirror_mode": {
    "name": "ipython",
    "version": 3
   },
   "file_extension": ".py",
   "mimetype": "text/x-python",
   "name": "python",
   "nbconvert_exporter": "python",
   "pygments_lexer": "ipython3",
   "version": "3.12.2"
  }
 },
 "nbformat": 4,
 "nbformat_minor": 2
}
